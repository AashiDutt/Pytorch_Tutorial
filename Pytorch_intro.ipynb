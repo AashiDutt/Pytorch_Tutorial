{
 "cells": [
  {
   "attachments": {},
   "cell_type": "markdown",
   "metadata": {},
   "source": [
    "# Tensors\n",
    "\n",
    "Tensors are a specialized data structure that are very similar to arrays and matrices. \n",
    "In PyTorch, we use tensors to encode the inputs and outputs of a model, as well as the model’s parameters"
   ]
  },
  {
   "cell_type": "code",
   "execution_count": 1,
   "metadata": {},
   "outputs": [],
   "source": [
    "import torch\n",
    "import numpy as np"
   ]
  },
  {
   "cell_type": "code",
   "execution_count": 2,
   "metadata": {},
   "outputs": [],
   "source": [
    "# Creating tensor from data\n",
    "\n",
    "data = [[1,2], [3,4]]\n",
    "x_data = torch.tensor(data)"
   ]
  },
  {
   "cell_type": "code",
   "execution_count": 3,
   "metadata": {},
   "outputs": [],
   "source": [
    "# Creating tensor from numpy array\n",
    "np_array = np.array(data)\n",
    "x_np = torch.from_numpy(np_array)\n",
    "\n"
   ]
  },
  {
   "cell_type": "code",
   "execution_count": 5,
   "metadata": {},
   "outputs": [
    {
     "name": "stdout",
     "output_type": "stream",
     "text": [
      "Ones tensor: \n",
      " tensor([[1, 1],\n",
      "        [1, 1]]) \n",
      "\n",
      "random tensor \n",
      " tensor([[0.6309, 0.0012],\n",
      "        [0.3265, 0.2789]]) \n",
      "\n"
     ]
    }
   ],
   "source": [
    "# Creating new tensors\n",
    "\n",
    "#The new tensor retains the properties (shape, datatype) of the argument tensor, unless explicitly overridden.\n",
    "\n",
    "x_ones = torch.ones_like(x_data)\n",
    "print(f\"Ones tensor: \\n {x_ones} \\n\")\n",
    "x_rand = torch.rand_like(x_data, dtype = torch.float)\n",
    "print(f\"random tensor \\n {x_rand} \\n\")"
   ]
  },
  {
   "cell_type": "code",
   "execution_count": 6,
   "metadata": {},
   "outputs": [
    {
     "name": "stdout",
     "output_type": "stream",
     "text": [
      "Random Tensor: \n",
      " tensor([[0.8423, 0.4983, 0.8144],\n",
      "        [0.1756, 0.6749, 0.4119]]) \n",
      "\n",
      "Ones Tensor: \n",
      " tensor([[1., 1., 1.],\n",
      "        [1., 1., 1.]]) \n",
      "\n",
      "Zeros Tensor: \n",
      " tensor([[0., 0., 0.],\n",
      "        [0., 0., 0.]])\n"
     ]
    }
   ],
   "source": [
    "#With random or constant values:\n",
    "#shape is a tuple of tensor dimensions. In the functions below, it determines the dimensionality of the output tensor.\n",
    "\n",
    "shape = (2,3,)\n",
    "rand_tensor = torch.rand(shape)\n",
    "ones_tensor = torch.ones(shape)\n",
    "zeros_tensor = torch.zeros(shape)\n",
    "\n",
    "print(f\"Random Tensor: \\n {rand_tensor} \\n\")\n",
    "print(f\"Ones Tensor: \\n {ones_tensor} \\n\")\n",
    "print(f\"Zeros Tensor: \\n {zeros_tensor}\")\n"
   ]
  },
  {
   "cell_type": "code",
   "execution_count": 7,
   "metadata": {},
   "outputs": [
    {
     "name": "stdout",
     "output_type": "stream",
     "text": [
      "tensor shape: torch.Size([3, 4])\n",
      "Tensor dtype torch.float32\n",
      "saved where: cpu\n"
     ]
    }
   ],
   "source": [
    "# Attributes of a Tensor\n",
    "#Tensor attributes describe their shape, datatype, and the device on which they are stored.\n",
    "\n",
    "tensor = torch.rand(3,4)\n",
    "\n",
    "print(\"tensor shape:\", tensor.shape)\n",
    "print(\"Tensor dtype\", tensor.dtype)\n",
    "print(\"saved where:\", tensor.device)"
   ]
  },
  {
   "cell_type": "code",
   "execution_count": 8,
   "metadata": {},
   "outputs": [],
   "source": [
    "# Operations on Tensors\n",
    "# By default, tensors are created on the CPU. We need to explicitly move tensors to the GPU using .to method (after checking for GPU availability).\n",
    "# Keep in mind that copying large tensors across devices can be expensive in terms of time and memory!\n",
    "\n",
    "if torch.cuda.is_available():\n",
    "    tensor = tensor.to(\"cuda\")"
   ]
  },
  {
   "cell_type": "code",
   "execution_count": 14,
   "metadata": {},
   "outputs": [
    {
     "name": "stdout",
     "output_type": "stream",
     "text": [
      "tensor(1.)\n",
      "tensor([1., 1., 1., 1.])\n",
      "tensor([1., 1., 1., 1.])\n",
      "tensor([1., 1., 1., 1.])\n",
      "tensor([[1., 0., 1., 1.],\n",
      "        [1., 0., 1., 1.],\n",
      "        [1., 0., 1., 1.],\n",
      "        [1., 0., 1., 1.]])\n"
     ]
    }
   ],
   "source": [
    "# Basic indexing and slicing\n",
    "\n",
    "Tensor = torch.ones(4,4)\n",
    "\n",
    "print(Tensor[0][0]) # first element and first column\n",
    "print(Tensor[0, :]) # first row and all columns\n",
    "print(Tensor[:, 1]) # all rows and 1st column\n",
    "print(Tensor[..., -1]) # last column\n",
    "Tensor[:, 1] = 0\n",
    "print(Tensor)"
   ]
  },
  {
   "cell_type": "code",
   "execution_count": 15,
   "metadata": {},
   "outputs": [
    {
     "name": "stdout",
     "output_type": "stream",
     "text": [
      "tensor([[1., 0., 1., 1., 1., 0., 1., 1., 1., 0., 1., 1.],\n",
      "        [1., 0., 1., 1., 1., 0., 1., 1., 1., 0., 1., 1.],\n",
      "        [1., 0., 1., 1., 1., 0., 1., 1., 1., 0., 1., 1.],\n",
      "        [1., 0., 1., 1., 1., 0., 1., 1., 1., 0., 1., 1.]])\n"
     ]
    }
   ],
   "source": [
    "# Joining tensors - concatinating \n",
    "\n",
    "t1 = torch.cat([Tensor, Tensor, Tensor], dim = 1)\n",
    "print(t1)"
   ]
  },
  {
   "cell_type": "code",
   "execution_count": 16,
   "metadata": {},
   "outputs": [
    {
     "name": "stdout",
     "output_type": "stream",
     "text": [
      "tensor([[3., 3., 3., 3.],\n",
      "        [3., 3., 3., 3.],\n",
      "        [3., 3., 3., 3.],\n",
      "        [3., 3., 3., 3.]])\n"
     ]
    }
   ],
   "source": [
    "# Arithmatic operations\n",
    "# Matrix multiplication - y1, y2, y3 will have the same value\n",
    "\n",
    "y1 = Tensor @ Tensor.T # transpose\n",
    "y2 = Tensor.matmul(Tensor.T)\n",
    "y3 = torch.rand_like(y1)\n",
    "torch.matmul(Tensor, Tensor.T, out = y3)\n",
    "\n",
    "print(y1)\n"
   ]
  },
  {
   "cell_type": "code",
   "execution_count": 17,
   "metadata": {},
   "outputs": [
    {
     "name": "stdout",
     "output_type": "stream",
     "text": [
      "tensor([[1., 0., 1., 1.],\n",
      "        [1., 0., 1., 1.],\n",
      "        [1., 0., 1., 1.],\n",
      "        [1., 0., 1., 1.]])\n"
     ]
    }
   ],
   "source": [
    "# This computes the element-wise product. z1, z2, z3 will have the same value\n",
    "\n",
    "z1 = Tensor * Tensor\n",
    "z2 = Tensor.mul(Tensor)\n",
    "z3 = torch.rand_like(Tensor)\n",
    "torch.mul(Tensor, Tensor, out = z3)\n",
    "\n",
    "print(z3)"
   ]
  },
  {
   "cell_type": "code",
   "execution_count": 18,
   "metadata": {},
   "outputs": [
    {
     "name": "stdout",
     "output_type": "stream",
     "text": [
      "12.0 <class 'float'>\n"
     ]
    }
   ],
   "source": [
    "# Single-element tensors If you have a one-element tensor, \n",
    "#for example by aggregating all values of a tensor into one value, you can convert it to a Python numerical value using item()\n",
    "\n",
    "agg = Tensor.sum()\n",
    "agg_item = agg.item()\n",
    "print(agg_item, type(agg_item))"
   ]
  },
  {
   "cell_type": "code",
   "execution_count": 19,
   "metadata": {},
   "outputs": [
    {
     "name": "stdout",
     "output_type": "stream",
     "text": [
      "tensor([[1., 0., 1., 1.],\n",
      "        [1., 0., 1., 1.],\n",
      "        [1., 0., 1., 1.],\n",
      "        [1., 0., 1., 1.]]) \n",
      "\n",
      "tensor([[6., 5., 6., 6.],\n",
      "        [6., 5., 6., 6.],\n",
      "        [6., 5., 6., 6.],\n",
      "        [6., 5., 6., 6.]]) \n",
      "\n"
     ]
    }
   ],
   "source": [
    "# In-place operations Operations that store the result into the operand are called in-place. \n",
    "#They are denoted by a _ suffix. For example: x.copy_(y), x.t_(), will change x\n",
    "\n",
    "print(f\"{Tensor} \\n\")\n",
    "Tensor.add_(5) # inplace operation \n",
    "print(f\"{Tensor} \\n\")"
   ]
  },
  {
   "cell_type": "code",
   "execution_count": 20,
   "metadata": {},
   "outputs": [
    {
     "name": "stdout",
     "output_type": "stream",
     "text": [
      "tensor([1., 1., 1., 1., 1.]) \n",
      "\n",
      "[1. 1. 1. 1. 1.] \n",
      "\n"
     ]
    }
   ],
   "source": [
    "# Tensor to NumPy array\n",
    "\n",
    "t = torch.ones(5)\n",
    "print(f\"{t} \\n\")\n",
    "\n",
    "n = t.numpy()\n",
    "print(f\"{n} \\n\")"
   ]
  },
  {
   "cell_type": "code",
   "execution_count": 21,
   "metadata": {},
   "outputs": [
    {
     "name": "stdout",
     "output_type": "stream",
     "text": [
      "tensor([6., 6., 6., 6., 6.]) \n",
      "\n",
      "[6. 6. 6. 6. 6.] \n",
      "\n"
     ]
    }
   ],
   "source": [
    "# A change in the tensor reflects in the NumPy array.\n",
    "\n",
    "t.add_(5)\n",
    "\n",
    "print(f\"{t} \\n\")\n",
    "print(f\"{n} \\n\")"
   ]
  },
  {
   "cell_type": "code",
   "execution_count": 22,
   "metadata": {},
   "outputs": [
    {
     "name": "stdout",
     "output_type": "stream",
     "text": [
      "[1. 1. 1. 1. 1.]\n",
      "tensor([1., 1., 1., 1., 1.], dtype=torch.float64)\n"
     ]
    }
   ],
   "source": [
    "# NumPy array to Tensor\n",
    "\n",
    "n = np.ones(5)\n",
    "t = torch.from_numpy(n)\n",
    "\n",
    "print(n)\n",
    "print(t)"
   ]
  },
  {
   "cell_type": "code",
   "execution_count": 24,
   "metadata": {},
   "outputs": [
    {
     "name": "stdout",
     "output_type": "stream",
     "text": [
      "tensor([1., 1., 1., 1., 1.], dtype=torch.float64) \n",
      "\n",
      "[6. 6. 6. 6. 6.] \n",
      "\n"
     ]
    }
   ],
   "source": [
    "\n",
    "n = n + 5\n",
    "\n",
    "print(f\"{t} \\n\")\n",
    "print(f\"{n} \\n\")"
   ]
  },
  {
   "cell_type": "code",
   "execution_count": 25,
   "metadata": {},
   "outputs": [
    {
     "name": "stdout",
     "output_type": "stream",
     "text": [
      "tensor([1., 1., 1., 1., 1.], dtype=torch.float64) \n",
      "\n",
      "[7. 7. 7. 7. 7.] \n",
      "\n"
     ]
    }
   ],
   "source": [
    "# Changes in the NumPy array reflects in the tensor\n",
    "np.add(n, 1, out=n)\n",
    "\n",
    "print(f\"{t} \\n\")\n",
    "print(f\"{n} \\n\")"
   ]
  },
  {
   "cell_type": "code",
   "execution_count": 26,
   "metadata": {},
   "outputs": [],
   "source": [
    "n = np.ones(5)\n",
    "t = torch.from_numpy(n)"
   ]
  },
  {
   "cell_type": "code",
   "execution_count": 27,
   "metadata": {},
   "outputs": [
    {
     "name": "stdout",
     "output_type": "stream",
     "text": [
      "t: tensor([2., 2., 2., 2., 2.], dtype=torch.float64)\n",
      "n: [2. 2. 2. 2. 2.]\n"
     ]
    }
   ],
   "source": [
    "np.add(n, 1, out=n)\n",
    "print(f\"t: {t}\")\n",
    "print(f\"n: {n}\")"
   ]
  },
  {
   "cell_type": "code",
   "execution_count": null,
   "metadata": {},
   "outputs": [],
   "source": []
  }
 ],
 "metadata": {
  "kernelspec": {
   "display_name": "DL",
   "language": "python",
   "name": "python3"
  },
  "language_info": {
   "codemirror_mode": {
    "name": "ipython",
    "version": 3
   },
   "file_extension": ".py",
   "mimetype": "text/x-python",
   "name": "python",
   "nbconvert_exporter": "python",
   "pygments_lexer": "ipython3",
   "version": "3.10.5"
  },
  "orig_nbformat": 4
 },
 "nbformat": 4,
 "nbformat_minor": 2
}
